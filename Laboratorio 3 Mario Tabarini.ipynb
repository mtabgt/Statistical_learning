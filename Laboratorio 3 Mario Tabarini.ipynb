{
 "cells": [
  {
   "attachments": {},
   "cell_type": "markdown",
   "metadata": {},
   "source": [
    "### Mario Eduardo Tabarini Andretta\n",
    "### 22000349\n",
    "## Laboratorio No. 3\n"
   ]
  },
  {
   "cell_type": "code",
   "execution_count": 103,
   "metadata": {},
   "outputs": [],
   "source": [
    "import pandas as pd\n",
    "import numpy as np \n",
    "import matplotlib.pyplot as plt\n",
    "import seaborn as sns\n",
    "import category_encoders as ce\n",
    "from sklearn.neighbors import KernelDensity\n",
    "from sklearn.preprocessing import StandardScaler\n",
    "\n",
    "from sklearn.linear_model import Lasso\n",
    "from sklearn.metrics import mean_squared_error, r2_score\n",
    "from sklearn.model_selection import train_test_split\n",
    "from sklearn.pipeline import Pipeline\n",
    "from sklearn.preprocessing import MinMaxScaler, Binarizer\n",
    "\n",
    "from sklearn.linear_model import LinearRegression\n",
    "\n",
    "from feature_engine.imputation import AddMissingIndicator, MeanMedianImputer, CategoricalImputer\n",
    "from feature_engine.encoding import RareLabelEncoder, OrdinalEncoder\n",
    "from feature_engine.transformation import LogTransformer\n",
    "from feature_engine.selection import DropFeatures\n",
    "from feature_engine.wrappers import SklearnTransformerWrapper\n",
    "\n",
    "import myPreprocessors as mypp\n",
    "\n",
    "\n",
    "from IPython.display import display, HTML\n",
    "\n",
    "import joblib\n"
   ]
  },
  {
   "cell_type": "code",
   "execution_count": 8,
   "metadata": {},
   "outputs": [
    {
     "data": {
      "text/plain": [
       "(14447, 11)"
      ]
     },
     "execution_count": 8,
     "metadata": {},
     "output_type": "execute_result"
    }
   ],
   "source": [
    "data = pd.read_csv('train.csv') #Se importa acrhivo .CSV\n",
    "data.shape"
   ]
  },
  {
   "cell_type": "code",
   "execution_count": 9,
   "metadata": {},
   "outputs": [
    {
     "data": {
      "text/html": [
       "<div>\n",
       "<style scoped>\n",
       "    .dataframe tbody tr th:only-of-type {\n",
       "        vertical-align: middle;\n",
       "    }\n",
       "\n",
       "    .dataframe tbody tr th {\n",
       "        vertical-align: top;\n",
       "    }\n",
       "\n",
       "    .dataframe thead th {\n",
       "        text-align: right;\n",
       "    }\n",
       "</style>\n",
       "<table border=\"1\" class=\"dataframe\">\n",
       "  <thead>\n",
       "    <tr style=\"text-align: right;\">\n",
       "      <th></th>\n",
       "      <th>id</th>\n",
       "      <th>longitude</th>\n",
       "      <th>latitude</th>\n",
       "      <th>housing_median_age</th>\n",
       "      <th>total_rooms</th>\n",
       "      <th>total_bedrooms</th>\n",
       "      <th>population</th>\n",
       "      <th>households</th>\n",
       "      <th>median_income</th>\n",
       "      <th>median_house_value</th>\n",
       "      <th>ocean_proximity</th>\n",
       "    </tr>\n",
       "  </thead>\n",
       "  <tbody>\n",
       "    <tr>\n",
       "      <th>0</th>\n",
       "      <td>9744</td>\n",
       "      <td>-121.65</td>\n",
       "      <td>36.77</td>\n",
       "      <td>15</td>\n",
       "      <td>2191</td>\n",
       "      <td>358.0</td>\n",
       "      <td>1150</td>\n",
       "      <td>330</td>\n",
       "      <td>4.7969</td>\n",
       "      <td>227500.0</td>\n",
       "      <td>&lt;1H OCEAN</td>\n",
       "    </tr>\n",
       "    <tr>\n",
       "      <th>1</th>\n",
       "      <td>13893</td>\n",
       "      <td>-116.27</td>\n",
       "      <td>34.13</td>\n",
       "      <td>37</td>\n",
       "      <td>452</td>\n",
       "      <td>109.0</td>\n",
       "      <td>184</td>\n",
       "      <td>59</td>\n",
       "      <td>3.7292</td>\n",
       "      <td>65800.0</td>\n",
       "      <td>INLAND</td>\n",
       "    </tr>\n",
       "    <tr>\n",
       "      <th>2</th>\n",
       "      <td>18277</td>\n",
       "      <td>-122.07</td>\n",
       "      <td>37.34</td>\n",
       "      <td>35</td>\n",
       "      <td>1172</td>\n",
       "      <td>184.0</td>\n",
       "      <td>512</td>\n",
       "      <td>175</td>\n",
       "      <td>7.3561</td>\n",
       "      <td>500001.0</td>\n",
       "      <td>&lt;1H OCEAN</td>\n",
       "    </tr>\n",
       "    <tr>\n",
       "      <th>3</th>\n",
       "      <td>16176</td>\n",
       "      <td>-122.39</td>\n",
       "      <td>37.74</td>\n",
       "      <td>52</td>\n",
       "      <td>126</td>\n",
       "      <td>24.0</td>\n",
       "      <td>37</td>\n",
       "      <td>27</td>\n",
       "      <td>10.2264</td>\n",
       "      <td>225000.0</td>\n",
       "      <td>NEAR BAY</td>\n",
       "    </tr>\n",
       "    <tr>\n",
       "      <th>4</th>\n",
       "      <td>8843</td>\n",
       "      <td>-118.38</td>\n",
       "      <td>34.09</td>\n",
       "      <td>28</td>\n",
       "      <td>4001</td>\n",
       "      <td>1352.0</td>\n",
       "      <td>1799</td>\n",
       "      <td>1220</td>\n",
       "      <td>2.5784</td>\n",
       "      <td>272900.0</td>\n",
       "      <td>&lt;1H OCEAN</td>\n",
       "    </tr>\n",
       "  </tbody>\n",
       "</table>\n",
       "</div>"
      ],
      "text/plain": [
       "      id  longitude  latitude  housing_median_age  total_rooms  \\\n",
       "0   9744    -121.65     36.77                  15         2191   \n",
       "1  13893    -116.27     34.13                  37          452   \n",
       "2  18277    -122.07     37.34                  35         1172   \n",
       "3  16176    -122.39     37.74                  52          126   \n",
       "4   8843    -118.38     34.09                  28         4001   \n",
       "\n",
       "   total_bedrooms  population  households  median_income  median_house_value  \\\n",
       "0           358.0        1150         330         4.7969            227500.0   \n",
       "1           109.0         184          59         3.7292             65800.0   \n",
       "2           184.0         512         175         7.3561            500001.0   \n",
       "3            24.0          37          27        10.2264            225000.0   \n",
       "4          1352.0        1799        1220         2.5784            272900.0   \n",
       "\n",
       "  ocean_proximity  \n",
       "0       <1H OCEAN  \n",
       "1          INLAND  \n",
       "2       <1H OCEAN  \n",
       "3        NEAR BAY  \n",
       "4       <1H OCEAN  "
      ]
     },
     "execution_count": 9,
     "metadata": {},
     "output_type": "execute_result"
    }
   ],
   "source": [
    "data.head() #Se anailza estructura de dataset"
   ]
  },
  {
   "attachments": {},
   "cell_type": "markdown",
   "metadata": {},
   "source": [
    "#### 1. Determine qué columnas poseen faltantes (NA o nulos)"
   ]
  },
  {
   "cell_type": "code",
   "execution_count": 10,
   "metadata": {},
   "outputs": [
    {
     "data": {
      "text/plain": [
       "['total_bedrooms']"
      ]
     },
     "execution_count": 10,
     "metadata": {},
     "output_type": "execute_result"
    }
   ],
   "source": [
    "cols_con_na = [col for col in data.columns if (data[col].isnull().mean() > 0)] #Se crea un dataset con las columnas que cuentan con valores nulos\n",
    "cols_con_na"
   ]
  },
  {
   "attachments": {},
   "cell_type": "markdown",
   "metadata": {},
   "source": [
    "#### 2. Determine la proporción de faltantes para cada columna con faltantes, muestre una gráfica de barras."
   ]
  },
  {
   "cell_type": "code",
   "execution_count": 11,
   "metadata": {},
   "outputs": [
    {
     "data": {
      "text/plain": [
       "total_bedrooms    0.009483\n",
       "dtype: float64"
      ]
     },
     "execution_count": 11,
     "metadata": {},
     "output_type": "execute_result"
    }
   ],
   "source": [
    "prop_nan_per_col = data[cols_con_na].isnull().mean() #Se determina la proporción de nulos para cada columna del dataset que tiene nulos\n",
    "prop_nan_per_col"
   ]
  },
  {
   "cell_type": "code",
   "execution_count": 130,
   "metadata": {},
   "outputs": [
    {
     "data": {
      "image/png": "[encoded data removed]",
      "text/plain": [
       "<Figure size 800x550 with 1 Axes>"
      ]
     },
     "metadata": {},
     "output_type": "display_data"
    }
   ],
   "source": [
    "prop_nan_per_col.plot(kind='bar') #Se crea gráfica de barras de proporción de nulos\n",
    "plt.xlabel('Columnas')\n",
    "plt.ylabel('Proporción de valores nulos')\n",
    "plt.title('Proporción de valores nulos por columna')\n",
    "\n",
    "# Mostrar la gráfica\n",
    "plt.show()\n"
   ]
  },
  {
   "attachments": {},
   "cell_type": "markdown",
   "metadata": {},
   "source": [
    "#### 4. Si la variable es numérica realice un análisis de cual sería el mejor método para realizar la imputación de datos, debe mostrar un bloque de código donde se muestre cada imputación y su análisis. Recuerde que puede ser: a. Eliminar los faltantes, b. Imputación de media o mediana, c. Valores arbitrarios (extremo derecho y extremo izquierdo), d. Generación de números aleatorios en base a la distribución (no visto en clase)."
   ]
  },
  {
   "cell_type": "code",
   "execution_count": 13,
   "metadata": {},
   "outputs": [
    {
     "data": {
      "text/plain": [
       "total_bedrooms    float64\n",
       "dtype: object"
      ]
     },
     "execution_count": 13,
     "metadata": {},
     "output_type": "execute_result"
    }
   ],
   "source": [
    "data[cols_con_na].dtypes"
   ]
  },
  {
   "cell_type": "code",
   "execution_count": 14,
   "metadata": {},
   "outputs": [
    {
     "data": {
      "text/plain": [
       "['id',\n",
       " 'longitude',\n",
       " 'latitude',\n",
       " 'housing_median_age',\n",
       " 'total_rooms',\n",
       " 'total_bedrooms',\n",
       " 'population',\n",
       " 'households',\n",
       " 'median_income',\n",
       " 'median_house_value',\n",
       " 'ocean_proximity']"
      ]
     },
     "execution_count": 14,
     "metadata": {},
     "output_type": "execute_result"
    }
   ],
   "source": [
    "cols_rescatables = [col for col in data.columns if (data[col].isnull().mean() <= 0.05)] #Se crea un dataset que incluya las columnas para las que es posible realizar imputación y no afecte a más del 5%.\n",
    "cols_rescatables"
   ]
  },
  {
   "attachments": {},
   "cell_type": "markdown",
   "metadata": {},
   "source": [
    "##### La variable con faltantes es numérica (tipo float64), por lo que se procederá a realizar cada imputación y evaluar el método ideal.\n",
    "#\n",
    "#\n",
    "#\n",
    "##### a. Eliminar columnas con faltantes"
   ]
  },
  {
   "cell_type": "code",
   "execution_count": 15,
   "metadata": {},
   "outputs": [
    {
     "data": {
      "text/plain": [
       "((14447, 11), (14310, 11))"
      ]
     },
     "execution_count": 15,
     "metadata": {},
     "output_type": "execute_result"
    }
   ],
   "source": [
    "newData = data[cols_rescatables].dropna() # Se eliminan los nulos en las columnas, dejando la misma cantidad de columnas, pero 137 filas menos.\n",
    "\n",
    "data.shape, newData.shape"
   ]
  },
  {
   "attachments": {},
   "cell_type": "markdown",
   "metadata": {},
   "source": [
    "##### b. Imputación de media y mediana"
   ]
  },
  {
   "cell_type": "code",
   "execution_count": 16,
   "metadata": {},
   "outputs": [
    {
     "data": {
      "text/plain": [
       "<matplotlib.legend.Legend at 0x2a293294c10>"
      ]
     },
     "execution_count": 16,
     "metadata": {},
     "output_type": "execute_result"
    },
    {
     "data": {
      "image/png": "[encoded data removed]",
      "text/plain": [
       "<Figure size 640x480 with 1 Axes>"
      ]
     },
     "metadata": {},
     "output_type": "display_data"
    }
   ],
   "source": [
    "newData=data\n",
    "\n",
    "media = newData['total_bedrooms'].mean() #Se determina la media de la columna total_bedrooms\n",
    "newData['total_bedrooms_mean'] = np.round(newData['total_bedrooms'].fillna(media)) #Se imputa la media en los faltantes\n",
    "\n",
    "\n",
    "mediana = newData['total_bedrooms'].median() #Se determina la mediama de la columna total_bedrooms\n",
    "newData['total_bedrooms_median'] = np.round(newData['total_bedrooms'].fillna(mediana)) #Se imputa la mediana en los faltantes\n",
    "\n",
    "newData.shape\n",
    "\n",
    "fig = plt.figure()\n",
    "ax = fig.add_subplot(111)\n",
    "\n",
    "\n",
    "#Se procede a comparar las gráficas de densidad de las tres columnas (total bedrooms con media imputada, total bedrooms cno mediana imputada y total bedooms original)\n",
    "\n",
    "newData['total_bedrooms_mean'].plot.density(color='blue', label='Media')\n",
    "newData['total_bedrooms_median'].plot.density(color='green', label='Mediana')\n",
    "newData['total_bedrooms'].plot.density(color='red', label='Original')\n",
    "ax.legend()"
   ]
  },
  {
   "attachments": {},
   "cell_type": "markdown",
   "metadata": {},
   "source": [
    "##### c. Imputación de valores arbitrarios"
   ]
  },
  {
   "cell_type": "code",
   "execution_count": 17,
   "metadata": {},
   "outputs": [
    {
     "data": {
      "text/plain": [
       "<matplotlib.legend.Legend at 0x2a293339e50>"
      ]
     },
     "execution_count": 17,
     "metadata": {},
     "output_type": "execute_result"
    },
    {
     "data": {
      "image/png": "[encoded data removed]",
      "text/plain": [
       "<Figure size 640x480 with 1 Axes>"
      ]
     },
     "metadata": {},
     "output_type": "display_data"
    }
   ],
   "source": [
    "newData=data\n",
    "\n",
    "media = newData['total_bedrooms'].mean() # Se calcula media de columna total bedooms\n",
    "desviacion=newData['total_bedrooms'].std() # Se calcula desviación estándar de columna total bedrooms\n",
    "desviacion\n",
    "\n",
    "imp_derecha=media+3*desviacion #Se alcula la imputación a partir de los datos de la cola derecha\n",
    "imp_derecha\n",
    "\n",
    "imp_izquierda=media-3*desviacion  #Se alcula la imputación a partir de los datos de la cola izquierda\n",
    "imp_izquierda\n",
    "\n",
    "newData['total_bedrooms_imp_derecha'] = np.round(newData['total_bedrooms'].fillna(imp_derecha)) # Se imputan datos de cola derecha\n",
    "newData['total_bedrooms_imp_izquierda'] = np.round(newData['total_bedrooms'].fillna(imp_izquierda)) # Se imputan datos de cola izquierda\n",
    "\n",
    "\n",
    "# Se reailza gráfica para comparar las tres imputaciones\n",
    "fig = plt.figure()\n",
    "ax = fig.add_subplot(111)\n",
    "newData['total_bedrooms'].plot.density(color='red', label='Original')\n",
    "newData['total_bedrooms_imp_derecha'].plot.density(color='blue', label='End of tail derecha')\n",
    "newData['total_bedrooms_imp_izquierda'].plot.density(color='green', label='End of tail izquierda')\n",
    "ax.legend()"
   ]
  },
  {
   "attachments": {},
   "cell_type": "markdown",
   "metadata": {},
   "source": [
    "#### d. Generación de números aleatorios con base en la distribución"
   ]
  },
  {
   "cell_type": "code",
   "execution_count": 136,
   "metadata": {},
   "outputs": [
    {
     "data": {
      "text/plain": [
       "<matplotlib.legend.Legend at 0x2a297016f40>"
      ]
     },
     "execution_count": 136,
     "metadata": {},
     "output_type": "execute_result"
    },
    {
     "data": {
      "image/png": "[encoded data removed]",
      "text/plain": [
       "<Figure size 800x550 with 1 Axes>"
      ]
     },
     "metadata": {},
     "output_type": "display_data"
    }
   ],
   "source": [
    "newData=data\n",
    "total_bedrooms_sin_na = data['total_bedrooms'].dropna() #Se eliminan na de columna total bedrooms y se crea columna con base en dichos valores\n",
    "    \n",
    "media = total_bedrooms_sin_na.mean()\n",
    "desviacion_estandar = total_bedrooms_sin_na.std()\n",
    "    \n",
    "valores_generados = np.random.normal(media, desviacion_estandar, data['total_bedrooms'].isnull().sum()) #Se genran valores arbitrarios basados en media y desviación estándar\n",
    "    \n",
    "data.loc[data['total_bedrooms'].isnull(), 'total_bedrooms'] = valores_generados #Se llena columna de data total_bedrooms con los datos generados\n",
    "\n",
    "\n",
    "#Se genera gráfica que compara la columna con valores originales y con datos imputados.\n",
    "fig = plt.figure()\n",
    "ax = fig.add_subplot(111)\n",
    "newData['total_bedrooms'].plot.density(color='red', label='Original')\n",
    "data['total_bedrooms'].plot.density(color='green', label='Valores generados')\n",
    "ax.legend()\n"
   ]
  },
  {
   "attachments": {},
   "cell_type": "markdown",
   "metadata": {},
   "source": [
    "##### Conclusión: Los métodos ideales para tratar los faltantes son mediante la imputación de media, mediana o de números generados con base en la distribución. Para el ejercicio en cuestión, se procederá a emplear la imputación de medias."
   ]
  },
  {
   "attachments": {},
   "cell_type": "markdown",
   "metadata": {},
   "source": [
    "#### 4. Si la variable es categórica, realice una imputación que considere necesaria.\n",
    "#\n",
    "#\n",
    "##### R/ Como se determinó en los incisos anteriores, la única variable con faltantes es de tipo numérico, por lo que no se hace necesaria una imputación categórica.  "
   ]
  },
  {
   "attachments": {},
   "cell_type": "markdown",
   "metadata": {},
   "source": [
    "#### 5. Realice la codificación de variables categóricas, determine cual es le mejor enfoque para cada caso, recuerde que puede realizar los siguientes enfoques: a. One Hote Encoding. b. Codificación por Frecuencia. c. Codificación por Densidad."
   ]
  },
  {
   "attachments": {},
   "cell_type": "markdown",
   "metadata": {},
   "source": [
    "##### a. One hot encoding"
   ]
  },
  {
   "cell_type": "code",
   "execution_count": 19,
   "metadata": {},
   "outputs": [
    {
     "data": {
      "text/plain": [
       "['ocean_proximity']"
      ]
     },
     "execution_count": 19,
     "metadata": {},
     "output_type": "execute_result"
    }
   ],
   "source": [
    "def getCategoryVars(dataset): # Método para determinar qué columas requerirán codificación\n",
    "     cat_colnames = []\n",
    "     colnames = dataset.columns\n",
    "     for col in colnames:\n",
    "          if(dataset[col].dtype == 'object'):\n",
    "               cat_colnames.append(col)\n",
    "     return cat_colnames\n",
    "\n",
    "cat_cols = getCategoryVars(newData)\n",
    "cat_cols\n"
   ]
  },
  {
   "cell_type": "code",
   "execution_count": 20,
   "metadata": {},
   "outputs": [
    {
     "data": {
      "text/html": [
       "<div>\n",
       "<style scoped>\n",
       "    .dataframe tbody tr th:only-of-type {\n",
       "        vertical-align: middle;\n",
       "    }\n",
       "\n",
       "    .dataframe tbody tr th {\n",
       "        vertical-align: top;\n",
       "    }\n",
       "\n",
       "    .dataframe thead th {\n",
       "        text-align: right;\n",
       "    }\n",
       "</style>\n",
       "<table border=\"1\" class=\"dataframe\">\n",
       "  <thead>\n",
       "    <tr style=\"text-align: right;\">\n",
       "      <th></th>\n",
       "      <th>ocean_proximity</th>\n",
       "    </tr>\n",
       "  </thead>\n",
       "  <tbody>\n",
       "    <tr>\n",
       "      <th>0</th>\n",
       "      <td>&lt;1H OCEAN</td>\n",
       "    </tr>\n",
       "    <tr>\n",
       "      <th>1</th>\n",
       "      <td>INLAND</td>\n",
       "    </tr>\n",
       "    <tr>\n",
       "      <th>2</th>\n",
       "      <td>&lt;1H OCEAN</td>\n",
       "    </tr>\n",
       "    <tr>\n",
       "      <th>3</th>\n",
       "      <td>NEAR BAY</td>\n",
       "    </tr>\n",
       "    <tr>\n",
       "      <th>4</th>\n",
       "      <td>&lt;1H OCEAN</td>\n",
       "    </tr>\n",
       "  </tbody>\n",
       "</table>\n",
       "</div>"
      ],
      "text/plain": [
       "  ocean_proximity\n",
       "0       <1H OCEAN\n",
       "1          INLAND\n",
       "2       <1H OCEAN\n",
       "3        NEAR BAY\n",
       "4       <1H OCEAN"
      ]
     },
     "execution_count": 20,
     "metadata": {},
     "output_type": "execute_result"
    }
   ],
   "source": [
    "dataset_categories = newData[cat_cols]\n",
    "dataset_categories.head()"
   ]
  },
  {
   "cell_type": "code",
   "execution_count": 21,
   "metadata": {},
   "outputs": [
    {
     "data": {
      "text/plain": [
       "<1H OCEAN     6384\n",
       "INLAND        4577\n",
       "NEAR OCEAN    1865\n",
       "NEAR BAY      1619\n",
       "ISLAND           2\n",
       "Name: ocean_proximity, dtype: int64"
      ]
     },
     "execution_count": 21,
     "metadata": {},
     "output_type": "execute_result"
    }
   ],
   "source": [
    "dataset_categories['ocean_proximity'].value_counts() #Se determina frecuencia de cada valor en ocean_proximity"
   ]
  },
  {
   "cell_type": "code",
   "execution_count": 22,
   "metadata": {},
   "outputs": [
    {
     "data": {
      "text/html": [
       "<div>\n",
       "<style scoped>\n",
       "    .dataframe tbody tr th:only-of-type {\n",
       "        vertical-align: middle;\n",
       "    }\n",
       "\n",
       "    .dataframe tbody tr th {\n",
       "        vertical-align: top;\n",
       "    }\n",
       "\n",
       "    .dataframe thead th {\n",
       "        text-align: right;\n",
       "    }\n",
       "</style>\n",
       "<table border=\"1\" class=\"dataframe\">\n",
       "  <thead>\n",
       "    <tr style=\"text-align: right;\">\n",
       "      <th></th>\n",
       "      <th>&lt;1H OCEAN</th>\n",
       "      <th>INLAND</th>\n",
       "      <th>ISLAND</th>\n",
       "      <th>NEAR BAY</th>\n",
       "      <th>NEAR OCEAN</th>\n",
       "    </tr>\n",
       "  </thead>\n",
       "  <tbody>\n",
       "    <tr>\n",
       "      <th>0</th>\n",
       "      <td>1</td>\n",
       "      <td>0</td>\n",
       "      <td>0</td>\n",
       "      <td>0</td>\n",
       "      <td>0</td>\n",
       "    </tr>\n",
       "    <tr>\n",
       "      <th>1</th>\n",
       "      <td>0</td>\n",
       "      <td>1</td>\n",
       "      <td>0</td>\n",
       "      <td>0</td>\n",
       "      <td>0</td>\n",
       "    </tr>\n",
       "    <tr>\n",
       "      <th>2</th>\n",
       "      <td>1</td>\n",
       "      <td>0</td>\n",
       "      <td>0</td>\n",
       "      <td>0</td>\n",
       "      <td>0</td>\n",
       "    </tr>\n",
       "    <tr>\n",
       "      <th>3</th>\n",
       "      <td>0</td>\n",
       "      <td>0</td>\n",
       "      <td>0</td>\n",
       "      <td>1</td>\n",
       "      <td>0</td>\n",
       "    </tr>\n",
       "    <tr>\n",
       "      <th>4</th>\n",
       "      <td>1</td>\n",
       "      <td>0</td>\n",
       "      <td>0</td>\n",
       "      <td>0</td>\n",
       "      <td>0</td>\n",
       "    </tr>\n",
       "    <tr>\n",
       "      <th>...</th>\n",
       "      <td>...</td>\n",
       "      <td>...</td>\n",
       "      <td>...</td>\n",
       "      <td>...</td>\n",
       "      <td>...</td>\n",
       "    </tr>\n",
       "    <tr>\n",
       "      <th>14442</th>\n",
       "      <td>0</td>\n",
       "      <td>0</td>\n",
       "      <td>0</td>\n",
       "      <td>1</td>\n",
       "      <td>0</td>\n",
       "    </tr>\n",
       "    <tr>\n",
       "      <th>14443</th>\n",
       "      <td>0</td>\n",
       "      <td>0</td>\n",
       "      <td>0</td>\n",
       "      <td>0</td>\n",
       "      <td>1</td>\n",
       "    </tr>\n",
       "    <tr>\n",
       "      <th>14444</th>\n",
       "      <td>0</td>\n",
       "      <td>1</td>\n",
       "      <td>0</td>\n",
       "      <td>0</td>\n",
       "      <td>0</td>\n",
       "    </tr>\n",
       "    <tr>\n",
       "      <th>14445</th>\n",
       "      <td>0</td>\n",
       "      <td>1</td>\n",
       "      <td>0</td>\n",
       "      <td>0</td>\n",
       "      <td>0</td>\n",
       "    </tr>\n",
       "    <tr>\n",
       "      <th>14446</th>\n",
       "      <td>1</td>\n",
       "      <td>0</td>\n",
       "      <td>0</td>\n",
       "      <td>0</td>\n",
       "      <td>0</td>\n",
       "    </tr>\n",
       "  </tbody>\n",
       "</table>\n",
       "<p>14447 rows × 5 columns</p>\n",
       "</div>"
      ],
      "text/plain": [
       "       <1H OCEAN  INLAND  ISLAND  NEAR BAY  NEAR OCEAN\n",
       "0              1       0       0         0           0\n",
       "1              0       1       0         0           0\n",
       "2              1       0       0         0           0\n",
       "3              0       0       0         1           0\n",
       "4              1       0       0         0           0\n",
       "...          ...     ...     ...       ...         ...\n",
       "14442          0       0       0         1           0\n",
       "14443          0       0       0         0           1\n",
       "14444          0       1       0         0           0\n",
       "14445          0       1       0         0           0\n",
       "14446          1       0       0         0           0\n",
       "\n",
       "[14447 rows x 5 columns]"
      ]
     },
     "execution_count": 22,
     "metadata": {},
     "output_type": "execute_result"
    }
   ],
   "source": [
    "pd.get_dummies(dataset_categories['ocean_proximity']) #Se crean las columnas correspondientes a cada valor de ocean proximity y se asigna 1 para el valor activo en cada fila (valores dummy)"
   ]
  },
  {
   "attachments": {},
   "cell_type": "markdown",
   "metadata": {},
   "source": [
    "##### b. Frequency encoding"
   ]
  },
  {
   "cell_type": "code",
   "execution_count": 23,
   "metadata": {},
   "outputs": [
    {
     "data": {
      "text/plain": [
       "<1H OCEAN     6384\n",
       "INLAND        4577\n",
       "NEAR OCEAN    1865\n",
       "NEAR BAY      1619\n",
       "ISLAND           2\n",
       "Name: ocean_proximity, dtype: int64"
      ]
     },
     "execution_count": 23,
     "metadata": {},
     "output_type": "execute_result"
    }
   ],
   "source": [
    "dataset_categories['ocean_proximity'].value_counts().sort_values(ascending=False) #Se determina frecuencia de cada valor en ocean proximity"
   ]
  },
  {
   "cell_type": "code",
   "execution_count": 24,
   "metadata": {},
   "outputs": [
    {
     "data": {
      "text/plain": [
       "{'<1H OCEAN': 6384,\n",
       " 'INLAND': 4577,\n",
       " 'NEAR OCEAN': 1865,\n",
       " 'NEAR BAY': 1619,\n",
       " 'ISLAND': 2}"
      ]
     },
     "execution_count": 24,
     "metadata": {},
     "output_type": "execute_result"
    }
   ],
   "source": [
    "freq_mapper = (dataset_categories['ocean_proximity'].value_counts().sort_values(ascending=False)).to_dict() #Se crea diccionario que codifica los valores de coean proximity con sus frecuencias\n",
    "freq_mapper"
   ]
  },
  {
   "cell_type": "code",
   "execution_count": 25,
   "metadata": {},
   "outputs": [
    {
     "name": "stderr",
     "output_type": "stream",
     "text": [
      "C:\\Users\\Mario T\\AppData\\Local\\Temp\\ipykernel_7760\\3474333795.py:1: SettingWithCopyWarning: \n",
      "A value is trying to be set on a copy of a slice from a DataFrame.\n",
      "Try using .loc[row_indexer,col_indexer] = value instead\n",
      "\n",
      "See the caveats in the documentation: https://pandas.pydata.org/pandas-docs/stable/user_guide/indexing.html#returning-a-view-versus-a-copy\n",
      "  dataset_categories['ocean_proximity_code'] = dataset_categories['ocean_proximity'].map(freq_mapper)\n"
     ]
    },
    {
     "data": {
      "text/html": [
       "<div>\n",
       "<style scoped>\n",
       "    .dataframe tbody tr th:only-of-type {\n",
       "        vertical-align: middle;\n",
       "    }\n",
       "\n",
       "    .dataframe tbody tr th {\n",
       "        vertical-align: top;\n",
       "    }\n",
       "\n",
       "    .dataframe thead th {\n",
       "        text-align: right;\n",
       "    }\n",
       "</style>\n",
       "<table border=\"1\" class=\"dataframe\">\n",
       "  <thead>\n",
       "    <tr style=\"text-align: right;\">\n",
       "      <th></th>\n",
       "      <th>ocean_proximity</th>\n",
       "      <th>ocean_proximity_code</th>\n",
       "    </tr>\n",
       "  </thead>\n",
       "  <tbody>\n",
       "    <tr>\n",
       "      <th>0</th>\n",
       "      <td>&lt;1H OCEAN</td>\n",
       "      <td>6384</td>\n",
       "    </tr>\n",
       "    <tr>\n",
       "      <th>1</th>\n",
       "      <td>INLAND</td>\n",
       "      <td>4577</td>\n",
       "    </tr>\n",
       "    <tr>\n",
       "      <th>2</th>\n",
       "      <td>&lt;1H OCEAN</td>\n",
       "      <td>6384</td>\n",
       "    </tr>\n",
       "    <tr>\n",
       "      <th>3</th>\n",
       "      <td>NEAR BAY</td>\n",
       "      <td>1619</td>\n",
       "    </tr>\n",
       "    <tr>\n",
       "      <th>4</th>\n",
       "      <td>&lt;1H OCEAN</td>\n",
       "      <td>6384</td>\n",
       "    </tr>\n",
       "    <tr>\n",
       "      <th>...</th>\n",
       "      <td>...</td>\n",
       "      <td>...</td>\n",
       "    </tr>\n",
       "    <tr>\n",
       "      <th>14442</th>\n",
       "      <td>NEAR BAY</td>\n",
       "      <td>1619</td>\n",
       "    </tr>\n",
       "    <tr>\n",
       "      <th>14443</th>\n",
       "      <td>NEAR OCEAN</td>\n",
       "      <td>1865</td>\n",
       "    </tr>\n",
       "    <tr>\n",
       "      <th>14444</th>\n",
       "      <td>INLAND</td>\n",
       "      <td>4577</td>\n",
       "    </tr>\n",
       "    <tr>\n",
       "      <th>14445</th>\n",
       "      <td>INLAND</td>\n",
       "      <td>4577</td>\n",
       "    </tr>\n",
       "    <tr>\n",
       "      <th>14446</th>\n",
       "      <td>&lt;1H OCEAN</td>\n",
       "      <td>6384</td>\n",
       "    </tr>\n",
       "  </tbody>\n",
       "</table>\n",
       "<p>14447 rows × 2 columns</p>\n",
       "</div>"
      ],
      "text/plain": [
       "      ocean_proximity  ocean_proximity_code\n",
       "0           <1H OCEAN                  6384\n",
       "1              INLAND                  4577\n",
       "2           <1H OCEAN                  6384\n",
       "3            NEAR BAY                  1619\n",
       "4           <1H OCEAN                  6384\n",
       "...               ...                   ...\n",
       "14442        NEAR BAY                  1619\n",
       "14443      NEAR OCEAN                  1865\n",
       "14444          INLAND                  4577\n",
       "14445          INLAND                  4577\n",
       "14446       <1H OCEAN                  6384\n",
       "\n",
       "[14447 rows x 2 columns]"
      ]
     },
     "execution_count": 25,
     "metadata": {},
     "output_type": "execute_result"
    }
   ],
   "source": [
    "dataset_categories['ocean_proximity_code'] = dataset_categories['ocean_proximity'].map(freq_mapper) #\n",
    "dataset_categories"
   ]
  },
  {
   "attachments": {},
   "cell_type": "markdown",
   "metadata": {},
   "source": [
    "##### c. Codificación por densidad"
   ]
  },
  {
   "cell_type": "code",
   "execution_count": 141,
   "metadata": {},
   "outputs": [
    {
     "data": {
      "text/plain": [
       "{'<1H OCEAN': 0.38286975386908056,\n",
       " 'INLAND': 0.3913699700149974,\n",
       " 'NEAR OCEAN': 0.39306710928993954,\n",
       " 'NEAR BAY': 0.3925534753661494,\n",
       " 'ISLAND': 0.3864639250956019}"
      ]
     },
     "execution_count": 141,
     "metadata": {},
     "output_type": "execute_result"
    }
   ],
   "source": [
    "densidad = newData['ocean_proximity'].value_counts(normalize=True) #Se determina densidad de cada valor de ocean proximity\n",
    "\n",
    "kde = KernelDensity().fit(densidad.values.reshape(-1, 1))\n",
    "densidades_estimadas = np.exp(kde.score_samples(densidad.values.reshape(-1, 1))) #Se crean estimadores de densidad\n",
    "freq_mapper = dict(zip(densidad.index, densidades_estimadas)) # Se mapea cada valor con su codificacio´n\n",
    "\n",
    "newData['ocean_proximity_density_code'] = newData['ocean_proximity'].map(freq_mapper) #Se crea una columna con los códigos de densidad para cada valor único\n",
    "\n",
    "freq_mapper"
   ]
  },
  {
   "attachments": {},
   "cell_type": "markdown",
   "metadata": {},
   "source": [
    "#### 6. Para todas las variables resultantes realice Feature Scaling según lo considere más pertinente."
   ]
  },
  {
   "cell_type": "code",
   "execution_count": 39,
   "metadata": {},
   "outputs": [
    {
     "data": {
      "text/html": [
       "<div>\n",
       "<style scoped>\n",
       "    .dataframe tbody tr th:only-of-type {\n",
       "        vertical-align: middle;\n",
       "    }\n",
       "\n",
       "    .dataframe tbody tr th {\n",
       "        vertical-align: top;\n",
       "    }\n",
       "\n",
       "    .dataframe thead th {\n",
       "        text-align: right;\n",
       "    }\n",
       "</style>\n",
       "<table border=\"1\" class=\"dataframe\">\n",
       "  <thead>\n",
       "    <tr style=\"text-align: right;\">\n",
       "      <th></th>\n",
       "      <th>id</th>\n",
       "      <th>longitude</th>\n",
       "      <th>latitude</th>\n",
       "      <th>housing_median_age</th>\n",
       "      <th>total_rooms</th>\n",
       "      <th>total_bedrooms</th>\n",
       "      <th>population</th>\n",
       "      <th>households</th>\n",
       "      <th>median_income</th>\n",
       "      <th>median_house_value</th>\n",
       "      <th>total_bedrooms_mean</th>\n",
       "      <th>total_bedrooms_median</th>\n",
       "      <th>total_bedrooms_imp_derecha</th>\n",
       "      <th>total_bedrooms_imp_izquierda</th>\n",
       "      <th>ocean_proximity_code</th>\n",
       "    </tr>\n",
       "  </thead>\n",
       "  <tbody>\n",
       "    <tr>\n",
       "      <th>count</th>\n",
       "      <td>14447.000000</td>\n",
       "      <td>14447.000000</td>\n",
       "      <td>14447.000000</td>\n",
       "      <td>14447.000000</td>\n",
       "      <td>14447.000000</td>\n",
       "      <td>14447.000000</td>\n",
       "      <td>14447.000000</td>\n",
       "      <td>14447.000000</td>\n",
       "      <td>14447.000000</td>\n",
       "      <td>14447.000000</td>\n",
       "      <td>14447.000000</td>\n",
       "      <td>14447.000000</td>\n",
       "      <td>14447.000000</td>\n",
       "      <td>14447.000000</td>\n",
       "      <td>14447.000000</td>\n",
       "    </tr>\n",
       "    <tr>\n",
       "      <th>mean</th>\n",
       "      <td>10275.451997</td>\n",
       "      <td>-119.580422</td>\n",
       "      <td>35.642011</td>\n",
       "      <td>28.845435</td>\n",
       "      <td>2635.287534</td>\n",
       "      <td>538.338987</td>\n",
       "      <td>1425.171454</td>\n",
       "      <td>500.116772</td>\n",
       "      <td>3.863949</td>\n",
       "      <td>206873.687824</td>\n",
       "      <td>537.780854</td>\n",
       "      <td>536.785146</td>\n",
       "      <td>549.843151</td>\n",
       "      <td>525.718557</td>\n",
       "      <td>0.387965</td>\n",
       "    </tr>\n",
       "    <tr>\n",
       "      <th>std</th>\n",
       "      <td>5957.136373</td>\n",
       "      <td>2.003511</td>\n",
       "      <td>2.135526</td>\n",
       "      <td>12.585221</td>\n",
       "      <td>2215.285809</td>\n",
       "      <td>424.288289</td>\n",
       "      <td>1123.733449</td>\n",
       "      <td>386.181946</td>\n",
       "      <td>1.892919</td>\n",
       "      <td>115263.889710</td>\n",
       "      <td>421.997029</td>\n",
       "      <td>422.119203</td>\n",
       "      <td>439.642553</td>\n",
       "      <td>439.630527</td>\n",
       "      <td>0.004568</td>\n",
       "    </tr>\n",
       "    <tr>\n",
       "      <th>min</th>\n",
       "      <td>1.000000</td>\n",
       "      <td>-124.300000</td>\n",
       "      <td>32.540000</td>\n",
       "      <td>1.000000</td>\n",
       "      <td>2.000000</td>\n",
       "      <td>-489.793396</td>\n",
       "      <td>6.000000</td>\n",
       "      <td>1.000000</td>\n",
       "      <td>0.499900</td>\n",
       "      <td>14999.000000</td>\n",
       "      <td>1.000000</td>\n",
       "      <td>1.000000</td>\n",
       "      <td>1.000000</td>\n",
       "      <td>-734.000000</td>\n",
       "      <td>0.382870</td>\n",
       "    </tr>\n",
       "    <tr>\n",
       "      <th>25%</th>\n",
       "      <td>5139.500000</td>\n",
       "      <td>-121.805000</td>\n",
       "      <td>33.930000</td>\n",
       "      <td>18.000000</td>\n",
       "      <td>1444.000000</td>\n",
       "      <td>295.000000</td>\n",
       "      <td>786.000000</td>\n",
       "      <td>280.000000</td>\n",
       "      <td>2.567150</td>\n",
       "      <td>119600.000000</td>\n",
       "      <td>297.000000</td>\n",
       "      <td>297.000000</td>\n",
       "      <td>297.000000</td>\n",
       "      <td>292.000000</td>\n",
       "      <td>0.382870</td>\n",
       "    </tr>\n",
       "    <tr>\n",
       "      <th>50%</th>\n",
       "      <td>10210.000000</td>\n",
       "      <td>-118.500000</td>\n",
       "      <td>34.260000</td>\n",
       "      <td>29.000000</td>\n",
       "      <td>2121.000000</td>\n",
       "      <td>434.000000</td>\n",
       "      <td>1163.000000</td>\n",
       "      <td>408.000000</td>\n",
       "      <td>3.535000</td>\n",
       "      <td>179700.000000</td>\n",
       "      <td>436.000000</td>\n",
       "      <td>433.000000</td>\n",
       "      <td>436.000000</td>\n",
       "      <td>431.000000</td>\n",
       "      <td>0.391370</td>\n",
       "    </tr>\n",
       "    <tr>\n",
       "      <th>75%</th>\n",
       "      <td>15449.000000</td>\n",
       "      <td>-118.020000</td>\n",
       "      <td>37.720000</td>\n",
       "      <td>37.000000</td>\n",
       "      <td>3137.500000</td>\n",
       "      <td>648.000000</td>\n",
       "      <td>1722.000000</td>\n",
       "      <td>604.500000</td>\n",
       "      <td>4.722850</td>\n",
       "      <td>264600.000000</td>\n",
       "      <td>644.000000</td>\n",
       "      <td>644.000000</td>\n",
       "      <td>656.500000</td>\n",
       "      <td>644.000000</td>\n",
       "      <td>0.391370</td>\n",
       "    </tr>\n",
       "    <tr>\n",
       "      <th>max</th>\n",
       "      <td>20640.000000</td>\n",
       "      <td>-114.310000</td>\n",
       "      <td>41.950000</td>\n",
       "      <td>52.000000</td>\n",
       "      <td>39320.000000</td>\n",
       "      <td>6445.000000</td>\n",
       "      <td>28566.000000</td>\n",
       "      <td>6082.000000</td>\n",
       "      <td>15.000100</td>\n",
       "      <td>500001.000000</td>\n",
       "      <td>6445.000000</td>\n",
       "      <td>6445.000000</td>\n",
       "      <td>6445.000000</td>\n",
       "      <td>6445.000000</td>\n",
       "      <td>0.393067</td>\n",
       "    </tr>\n",
       "  </tbody>\n",
       "</table>\n",
       "</div>"
      ],
      "text/plain": [
       "                 id     longitude      latitude  housing_median_age  \\\n",
       "count  14447.000000  14447.000000  14447.000000        14447.000000   \n",
       "mean   10275.451997   -119.580422     35.642011           28.845435   \n",
       "std     5957.136373      2.003511      2.135526           12.585221   \n",
       "min        1.000000   -124.300000     32.540000            1.000000   \n",
       "25%     5139.500000   -121.805000     33.930000           18.000000   \n",
       "50%    10210.000000   -118.500000     34.260000           29.000000   \n",
       "75%    15449.000000   -118.020000     37.720000           37.000000   \n",
       "max    20640.000000   -114.310000     41.950000           52.000000   \n",
       "\n",
       "        total_rooms  total_bedrooms    population    households  \\\n",
       "count  14447.000000    14447.000000  14447.000000  14447.000000   \n",
       "mean    2635.287534      538.338987   1425.171454    500.116772   \n",
       "std     2215.285809      424.288289   1123.733449    386.181946   \n",
       "min        2.000000     -489.793396      6.000000      1.000000   \n",
       "25%     1444.000000      295.000000    786.000000    280.000000   \n",
       "50%     2121.000000      434.000000   1163.000000    408.000000   \n",
       "75%     3137.500000      648.000000   1722.000000    604.500000   \n",
       "max    39320.000000     6445.000000  28566.000000   6082.000000   \n",
       "\n",
       "       median_income  median_house_value  total_bedrooms_mean  \\\n",
       "count   14447.000000        14447.000000         14447.000000   \n",
       "mean        3.863949       206873.687824           537.780854   \n",
       "std         1.892919       115263.889710           421.997029   \n",
       "min         0.499900        14999.000000             1.000000   \n",
       "25%         2.567150       119600.000000           297.000000   \n",
       "50%         3.535000       179700.000000           436.000000   \n",
       "75%         4.722850       264600.000000           644.000000   \n",
       "max        15.000100       500001.000000          6445.000000   \n",
       "\n",
       "       total_bedrooms_median  total_bedrooms_imp_derecha  \\\n",
       "count           14447.000000                14447.000000   \n",
       "mean              536.785146                  549.843151   \n",
       "std               422.119203                  439.642553   \n",
       "min                 1.000000                    1.000000   \n",
       "25%               297.000000                  297.000000   \n",
       "50%               433.000000                  436.000000   \n",
       "75%               644.000000                  656.500000   \n",
       "max              6445.000000                 6445.000000   \n",
       "\n",
       "       total_bedrooms_imp_izquierda  ocean_proximity_code  \n",
       "count                  14447.000000          14447.000000  \n",
       "mean                     525.718557              0.387965  \n",
       "std                      439.630527              0.004568  \n",
       "min                     -734.000000              0.382870  \n",
       "25%                      292.000000              0.382870  \n",
       "50%                      431.000000              0.391370  \n",
       "75%                      644.000000              0.391370  \n",
       "max                     6445.000000              0.393067  "
      ]
     },
     "execution_count": 39,
     "metadata": {},
     "output_type": "execute_result"
    }
   ],
   "source": [
    "data.describe()"
   ]
  },
  {
   "cell_type": "code",
   "execution_count": 42,
   "metadata": {},
   "outputs": [],
   "source": [
    "def getColumnTypes(dataset): #Función para determinar el tipo de dato en columnas del dataset\n",
    "     continuas = []\n",
    "     discretas = []\n",
    "     categoricas = []\n",
    "     for col in dataset.columns:\n",
    "          if((dataset[col].dtype == 'int64') or (dataset[col].dtype == 'float64')):\n",
    "               if(len(dataset[col].unique()) > 30): \n",
    "                    continuas.append(col)\n",
    "               else:\n",
    "                    discretas.append(col)\n",
    "          else:\n",
    "               categoricas.append(col)\n",
    "\n",
    "     return continuas, discretas, categoricas\n",
    "\n",
    "continuas, discretas, categoricas = getColumnTypes(data)"
   ]
  },
  {
   "cell_type": "code",
   "execution_count": 44,
   "metadata": {},
   "outputs": [],
   "source": [
    "data_temp = data.copy()[continuas] #Se crea un dataset cno datos temporales en el que se encuentran únicamente las variables continuas"
   ]
  },
  {
   "cell_type": "code",
   "execution_count": 50,
   "metadata": {},
   "outputs": [],
   "source": [
    "scaler = StandardScaler() #Se llama a método de librería para normalizar datoa \n",
    "scaler.fit(data_temp)\n",
    "\n",
    "data_scaled = scaler.transform(data_temp) #Se escala la data temporal\n",
    "data_scaled = pd.DataFrame(data_scaled, columns=data_temp.columns)"
   ]
  },
  {
   "cell_type": "code",
   "execution_count": 51,
   "metadata": {},
   "outputs": [
    {
     "data": {
      "text/html": [
       "<div>\n",
       "<style scoped>\n",
       "    .dataframe tbody tr th:only-of-type {\n",
       "        vertical-align: middle;\n",
       "    }\n",
       "\n",
       "    .dataframe tbody tr th {\n",
       "        vertical-align: top;\n",
       "    }\n",
       "\n",
       "    .dataframe thead th {\n",
       "        text-align: right;\n",
       "    }\n",
       "</style>\n",
       "<table border=\"1\" class=\"dataframe\">\n",
       "  <thead>\n",
       "    <tr style=\"text-align: right;\">\n",
       "      <th></th>\n",
       "      <th>id</th>\n",
       "      <th>longitude</th>\n",
       "      <th>latitude</th>\n",
       "      <th>housing_median_age</th>\n",
       "      <th>total_rooms</th>\n",
       "      <th>total_bedrooms</th>\n",
       "      <th>population</th>\n",
       "      <th>households</th>\n",
       "      <th>median_income</th>\n",
       "      <th>median_house_value</th>\n",
       "      <th>total_bedrooms_mean</th>\n",
       "      <th>total_bedrooms_median</th>\n",
       "      <th>total_bedrooms_imp_derecha</th>\n",
       "      <th>total_bedrooms_imp_izquierda</th>\n",
       "    </tr>\n",
       "  </thead>\n",
       "  <tbody>\n",
       "    <tr>\n",
       "      <th>count</th>\n",
       "      <td>14447.00</td>\n",
       "      <td>14447.00</td>\n",
       "      <td>14447.00</td>\n",
       "      <td>14447.00</td>\n",
       "      <td>14447.00</td>\n",
       "      <td>14447.00</td>\n",
       "      <td>14447.00</td>\n",
       "      <td>14447.00</td>\n",
       "      <td>14447.00</td>\n",
       "      <td>14447.00</td>\n",
       "      <td>14447.00</td>\n",
       "      <td>14447.00</td>\n",
       "      <td>14447.00</td>\n",
       "      <td>14447.00</td>\n",
       "    </tr>\n",
       "    <tr>\n",
       "      <th>mean</th>\n",
       "      <td>-0.00</td>\n",
       "      <td>0.00</td>\n",
       "      <td>0.00</td>\n",
       "      <td>0.00</td>\n",
       "      <td>-0.00</td>\n",
       "      <td>-0.00</td>\n",
       "      <td>0.00</td>\n",
       "      <td>-0.00</td>\n",
       "      <td>-0.00</td>\n",
       "      <td>0.00</td>\n",
       "      <td>-0.00</td>\n",
       "      <td>-0.00</td>\n",
       "      <td>-0.00</td>\n",
       "      <td>-0.00</td>\n",
       "    </tr>\n",
       "    <tr>\n",
       "      <th>std</th>\n",
       "      <td>1.00</td>\n",
       "      <td>1.00</td>\n",
       "      <td>1.00</td>\n",
       "      <td>1.00</td>\n",
       "      <td>1.00</td>\n",
       "      <td>1.00</td>\n",
       "      <td>1.00</td>\n",
       "      <td>1.00</td>\n",
       "      <td>1.00</td>\n",
       "      <td>1.00</td>\n",
       "      <td>1.00</td>\n",
       "      <td>1.00</td>\n",
       "      <td>1.00</td>\n",
       "      <td>1.00</td>\n",
       "    </tr>\n",
       "    <tr>\n",
       "      <th>min</th>\n",
       "      <td>-1.72</td>\n",
       "      <td>-2.36</td>\n",
       "      <td>-1.45</td>\n",
       "      <td>-2.21</td>\n",
       "      <td>-1.19</td>\n",
       "      <td>-2.42</td>\n",
       "      <td>-1.26</td>\n",
       "      <td>-1.29</td>\n",
       "      <td>-1.78</td>\n",
       "      <td>-1.66</td>\n",
       "      <td>-1.27</td>\n",
       "      <td>-1.27</td>\n",
       "      <td>-1.25</td>\n",
       "      <td>-2.87</td>\n",
       "    </tr>\n",
       "    <tr>\n",
       "      <th>25%</th>\n",
       "      <td>-0.86</td>\n",
       "      <td>-1.11</td>\n",
       "      <td>-0.80</td>\n",
       "      <td>-0.86</td>\n",
       "      <td>-0.54</td>\n",
       "      <td>-0.57</td>\n",
       "      <td>-0.57</td>\n",
       "      <td>-0.57</td>\n",
       "      <td>-0.69</td>\n",
       "      <td>-0.76</td>\n",
       "      <td>-0.57</td>\n",
       "      <td>-0.57</td>\n",
       "      <td>-0.58</td>\n",
       "      <td>-0.53</td>\n",
       "    </tr>\n",
       "    <tr>\n",
       "      <th>50%</th>\n",
       "      <td>-0.01</td>\n",
       "      <td>0.54</td>\n",
       "      <td>-0.65</td>\n",
       "      <td>0.01</td>\n",
       "      <td>-0.23</td>\n",
       "      <td>-0.25</td>\n",
       "      <td>-0.23</td>\n",
       "      <td>-0.24</td>\n",
       "      <td>-0.17</td>\n",
       "      <td>-0.24</td>\n",
       "      <td>-0.24</td>\n",
       "      <td>-0.25</td>\n",
       "      <td>-0.26</td>\n",
       "      <td>-0.22</td>\n",
       "    </tr>\n",
       "    <tr>\n",
       "      <th>75%</th>\n",
       "      <td>0.87</td>\n",
       "      <td>0.78</td>\n",
       "      <td>0.97</td>\n",
       "      <td>0.65</td>\n",
       "      <td>0.23</td>\n",
       "      <td>0.26</td>\n",
       "      <td>0.26</td>\n",
       "      <td>0.27</td>\n",
       "      <td>0.45</td>\n",
       "      <td>0.50</td>\n",
       "      <td>0.25</td>\n",
       "      <td>0.25</td>\n",
       "      <td>0.24</td>\n",
       "      <td>0.27</td>\n",
       "    </tr>\n",
       "    <tr>\n",
       "      <th>max</th>\n",
       "      <td>1.74</td>\n",
       "      <td>2.63</td>\n",
       "      <td>2.95</td>\n",
       "      <td>1.84</td>\n",
       "      <td>16.56</td>\n",
       "      <td>13.92</td>\n",
       "      <td>24.15</td>\n",
       "      <td>14.45</td>\n",
       "      <td>5.88</td>\n",
       "      <td>2.54</td>\n",
       "      <td>14.00</td>\n",
       "      <td>14.00</td>\n",
       "      <td>13.41</td>\n",
       "      <td>13.46</td>\n",
       "    </tr>\n",
       "  </tbody>\n",
       "</table>\n",
       "</div>"
      ],
      "text/plain": [
       "             id  longitude  latitude  housing_median_age  total_rooms  \\\n",
       "count  14447.00   14447.00  14447.00            14447.00     14447.00   \n",
       "mean      -0.00       0.00      0.00                0.00        -0.00   \n",
       "std        1.00       1.00      1.00                1.00         1.00   \n",
       "min       -1.72      -2.36     -1.45               -2.21        -1.19   \n",
       "25%       -0.86      -1.11     -0.80               -0.86        -0.54   \n",
       "50%       -0.01       0.54     -0.65                0.01        -0.23   \n",
       "75%        0.87       0.78      0.97                0.65         0.23   \n",
       "max        1.74       2.63      2.95                1.84        16.56   \n",
       "\n",
       "       total_bedrooms  population  households  median_income  \\\n",
       "count        14447.00    14447.00    14447.00       14447.00   \n",
       "mean            -0.00        0.00       -0.00          -0.00   \n",
       "std              1.00        1.00        1.00           1.00   \n",
       "min             -2.42       -1.26       -1.29          -1.78   \n",
       "25%             -0.57       -0.57       -0.57          -0.69   \n",
       "50%             -0.25       -0.23       -0.24          -0.17   \n",
       "75%              0.26        0.26        0.27           0.45   \n",
       "max             13.92       24.15       14.45           5.88   \n",
       "\n",
       "       median_house_value  total_bedrooms_mean  total_bedrooms_median  \\\n",
       "count            14447.00             14447.00               14447.00   \n",
       "mean                 0.00                -0.00                  -0.00   \n",
       "std                  1.00                 1.00                   1.00   \n",
       "min                 -1.66                -1.27                  -1.27   \n",
       "25%                 -0.76                -0.57                  -0.57   \n",
       "50%                 -0.24                -0.24                  -0.25   \n",
       "75%                  0.50                 0.25                   0.25   \n",
       "max                  2.54                14.00                  14.00   \n",
       "\n",
       "       total_bedrooms_imp_derecha  total_bedrooms_imp_izquierda  \n",
       "count                    14447.00                      14447.00  \n",
       "mean                        -0.00                         -0.00  \n",
       "std                          1.00                          1.00  \n",
       "min                         -1.25                         -2.87  \n",
       "25%                         -0.58                         -0.53  \n",
       "50%                         -0.26                         -0.22  \n",
       "75%                          0.24                          0.27  \n",
       "max                         13.41                         13.46  "
      ]
     },
     "execution_count": 51,
     "metadata": {},
     "output_type": "execute_result"
    }
   ],
   "source": [
    "round(data_scaled.describe(), 2) #Se muestra data escalada/normalizada"
   ]
  },
  {
   "cell_type": "code",
   "execution_count": 54,
   "metadata": {},
   "outputs": [
    {
     "data": {
      "image/png": "[encoded data removed]",
      "text/plain": [
       "<Figure size 1200x500 with 2 Axes>"
      ]
     },
     "metadata": {},
     "output_type": "display_data"
    }
   ],
   "source": [
    "fig, (ax1, ax2) = plt.subplots(ncols=2, figsize=(12, 5))\n",
    "\n",
    "\n",
    "#Gráficas que permiten evaluar el antes y después de la normalización para dos columnas del dataset\n",
    "ax1.set_title(\"Sin Escala\")\n",
    "sns.kdeplot(data_temp['housing_median_age'], ax=ax1, label=\"housing_median_age\")\n",
    "sns.kdeplot(data_temp['total_bedrooms'], ax=ax1, label=\"total_bedrooms\")\n",
    "\n",
    "ax2.set_title(\"Con Escala\")\n",
    "sns.kdeplot(data_scaled['housing_median_age'], ax=ax2, label=\"housing_median_age\")\n",
    "sns.kdeplot(data_scaled['total_bedrooms'], ax=ax2, label=\"total_bedrooms\")\n",
    "\n",
    "ax1.legend()\n",
    "ax2.legend()\n",
    "\n",
    "plt.show()"
   ]
  },
  {
   "cell_type": "code",
   "execution_count": 55,
   "metadata": {},
   "outputs": [
    {
     "data": {
      "image/png": "[encoded data removed]",
      "text/plain": [
       "<Figure size 1200x500 with 2 Axes>"
      ]
     },
     "metadata": {},
     "output_type": "display_data"
    }
   ],
   "source": [
    "fig, (ax1, ax2) = plt.subplots(ncols=2, figsize=(12, 5))\n",
    "\n",
    "\n",
    "#Gráfica que compara antes y después entre otro conjunto de columnas para ejemplificar y evidenciar la efectividad de la normalización\n",
    "ax1.set_title(\"Sin Escala\")\n",
    "sns.kdeplot(data_temp['population'], ax=ax1, label=\"population\")\n",
    "sns.kdeplot(data_temp['median_income'], ax=ax1, label=\"median_income\")\n",
    "\n",
    "ax2.set_title(\"Con Escala\")\n",
    "sns.kdeplot(data_scaled['population'], ax=ax2, label=\"population\")\n",
    "sns.kdeplot(data_scaled['median_income'], ax=ax2, label=\"median_income\")\n",
    "\n",
    "ax1.legend()\n",
    "ax2.legend()\n",
    "\n",
    "plt.show()"
   ]
  },
  {
   "attachments": {},
   "cell_type": "markdown",
   "metadata": {},
   "source": [
    "#### 7. Crear un modelo de regresión que permita minimizar el RMSE en predicción, para este inciso puede utilizar cualquier modelo de regresión que considere adecuado."
   ]
  },
  {
   "cell_type": "code",
   "execution_count": 120,
   "metadata": {},
   "outputs": [],
   "source": [
    "dataTrain = data\n",
    "\n",
    "\n",
    "#Se crea data de prueba y entrenamiento con las variables existentes\n",
    "X_train, X_test, y_train, y_test = train_test_split(data[['longitude', 'latitude', 'housing_median_age', 'total_rooms', 'total_bedrooms', 'population', 'households', 'median_income', 'median_house_value', 'ocean_proximity_code']],\n",
    "                                                    data['median_house_value'],\n",
    "                                                    test_size=0.2,\n",
    "                                                    random_state=42)"
   ]
  },
  {
   "cell_type": "code",
   "execution_count": 121,
   "metadata": {},
   "outputs": [
    {
     "name": "stdout",
     "output_type": "stream",
     "text": [
      "RMSE: 1.3400382535228188e-10\n"
     ]
    }
   ],
   "source": [
    "# Se crea y ajusta el modelo de regresión lineal\n",
    "regression_model = LinearRegression()\n",
    "regression_model.fit(X_train, y_train)\n",
    "\n",
    "# Se realizan predicciones en el conjunto de prueba\n",
    "y_pred = regression_model.predict(X_test)\n",
    "\n",
    "# Se calcula el RMSE\n",
    "rmse = np.sqrt(mean_squared_error(y_test, y_pred))\n",
    "print('RMSE:', rmse)"
   ]
  },
  {
   "attachments": {},
   "cell_type": "markdown",
   "metadata": {},
   "source": [
    "### Considerando las instrucciones anteriores deberá crear un pipeline de sklearn para ingeniería de características similar al ejercicio desarrollado en la Sesión de Clase #5."
   ]
  },
  {
   "cell_type": "code",
   "execution_count": 125,
   "metadata": {},
   "outputs": [],
   "source": [
    "X_train, X_test, y_train, y_test = train_test_split(data[['longitude', 'latitude', 'housing_median_age', 'total_rooms', 'total_bedrooms', 'population', 'median_house_value', 'households', 'median_income', 'ocean_proximity']],\n",
    "                                                    data['median_house_value'],\n",
    "                                                    test_size=0.2,\n",
    "                                                    random_state=42)"
   ]
  },
  {
   "cell_type": "code",
   "execution_count": 126,
   "metadata": {},
   "outputs": [],
   "source": [
    "#Se imputan variables numéricas\n",
    "NUMERICAL_VARS_WITH_NA = ['total_bedrooms']\n",
    "\n",
    "#Variables para codificación por frecuencia (no ordinal)\n",
    "CATEGORICAL_VARS = ['ocean_proximity']\n",
    "\n",
    "\n",
    "#Variables a utilzar en el entrenamiento\n",
    "FEATURES = [\n",
    "    'longitude',\n",
    "    'latitude',\n",
    "    'housing_median_age',\n",
    "    'total_rooms',\n",
    "    'total_bedrooms',\n",
    "    'population',\n",
    "    'households',\n",
    "    'median_income',\n",
    "    'median_house_value',\n",
    "    'ocean_proximity',\n",
    "]"
   ]
  },
  {
   "cell_type": "code",
   "execution_count": 127,
   "metadata": {},
   "outputs": [],
   "source": [
    "X_train=X_train[FEATURES]"
   ]
  },
  {
   "cell_type": "code",
   "execution_count": 128,
   "metadata": {},
   "outputs": [],
   "source": [
    "housePrice_pipeline_v112022 = Pipeline([\n",
    "    \n",
    "\n",
    "    #1. Indicador faltane en variables numericas para imputación\n",
    "    ('missing_indicator_numeric',\n",
    "        AddMissingIndicator(variables=NUMERICAL_VARS_WITH_NA)\n",
    "    ),\n",
    "    \n",
    "    #2. Imputación de variables numéricas\n",
    "    ('mean_imputation',\n",
    "        MeanMedianImputer(imputation_method='mean', variables=NUMERICAL_VARS_WITH_NA)\n",
    "    ),\n",
    "\n",
    "        \n",
    "    #============= CODIFICACIÓN DE VARIABLES CATEGORICAS NOMINALES ==================\n",
    "    ('rare_label_encoder',\n",
    "        RareLabelEncoder(n_categories=1, tol=0.01, variables=CATEGORICAL_VARS)\n",
    "    ),\n",
    "    \n",
    "   ('categorical_encoder',\n",
    "        OrdinalEncoder(encoding_method='ordered', variables=CATEGORICAL_VARS)\n",
    "    ),\n",
    "    \n",
    "     #=============== SCALER ============\n",
    "    ('scaler',\n",
    "        MinMaxScaler()\n",
    "    ),\n",
    "    \n",
    "    ('modelo_lasso', \n",
    "         Lasso(alpha=0.01, random_state=2022)\n",
    "    )\n",
    "])"
   ]
  },
  {
   "cell_type": "code",
   "execution_count": 129,
   "metadata": {},
   "outputs": [
    {
     "data": {
      "text/plain": [
       "Pipeline(steps=[('missing_indicator_numeric',\n",
       "                 AddMissingIndicator(variables=['total_bedrooms'])),\n",
       "                ('mean_imputation',\n",
       "                 MeanMedianImputer(imputation_method='mean',\n",
       "                                   variables=['total_bedrooms'])),\n",
       "                ('rare_label_encoder',\n",
       "                 RareLabelEncoder(n_categories=1, tol=0.01,\n",
       "                                  variables=['ocean_proximity'])),\n",
       "                ('categorical_encoder',\n",
       "                 OrdinalEncoder(variables=['ocean_proximity'])),\n",
       "                ('scaler', MinMaxScaler()),\n",
       "                ('modelo_lasso', Lasso(alpha=0.01, random_state=2022))])"
      ]
     },
     "execution_count": 129,
     "metadata": {},
     "output_type": "execute_result"
    }
   ],
   "source": [
    "housePrice_pipeline_v112022.fit(X_train, y_train) #Se muestra pipeline resultante\n"
   ]
  }
 ],
 "metadata": {
  "kernelspec": {
   "display_name": "analytics_env",
   "language": "python",
   "name": "python3"
  },
  "language_info": {
   "codemirror_mode": {
    "name": "ipython",
    "version": 3
   },
   "file_extension": ".py",
   "mimetype": "text/x-python",
   "name": "python",
   "nbconvert_exporter": "python",
   "pygments_lexer": "ipython3",
   "version": "3.9.13"
  },
  "orig_nbformat": 4
 },
 "nbformat": 4,
 "nbformat_minor": 2
}
